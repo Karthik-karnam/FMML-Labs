{
  "nbformat": 4,
  "nbformat_minor": 0,
  "metadata": {
    "colab": {
      "name": "Module1_Lab3_FMML20210611.ipynb",
      "provenance": [],
      "collapsed_sections": [],
      "include_colab_link": true
    },
    "kernelspec": {
      "name": "python3",
      "display_name": "Python 3"
    },
    "language_info": {
      "name": "python"
    }
  },
  "cells": [
    {
      "cell_type": "markdown",
      "metadata": {
        "id": "view-in-github",
        "colab_type": "text"
      },
      "source": [
        "<a href=\"https://colab.research.google.com/github/Karthik-karnam/FMML-Labs/blob/main/Module1_Lab3_FMML20210611.ipynb\" target=\"_parent\"><img src=\"https://colab.research.google.com/assets/colab-badge.svg\" alt=\"Open In Colab\"/></a>"
      ]
    },
    {
      "cell_type": "markdown",
      "metadata": {
        "id": "w3yfry25JgZK"
      },
      "source": [
        "# Data augmentation\n",
        "\n",
        "FMML Module 1, Lab 3<br>\n",
        " Module Coordinator: Thrupthi Ann John thrupthi.ann@research.iiit.ac.in <br>\n",
        " Release date: 18 October 2021 <br>\n",
        "\n",
        " In this lab, we will see how augmentation of data samples help in improving the machine learning performance"
      ]
    },
    {
      "cell_type": "code",
      "metadata": {
        "id": "xZU8_elooqP0"
      },
      "source": [
        "import numpy as np\n",
        "import matplotlib.pyplot as plt\n",
        "from keras.datasets import mnist\n",
        "# set randomseed\n",
        "rng = np.random.default_rng(seed=42)\n",
        "from sklearn.utils.extmath import cartesian\n",
        "from skimage.transform import rotate, AffineTransform, warp\n",
        "import math\n",
        "from skimage.util import random_noise"
      ],
      "execution_count": null,
      "outputs": []
    },
    {
      "cell_type": "markdown",
      "metadata": {
        "id": "T5pHYogSMHiE"
      },
      "source": [
        "Augmentation is useful when we have less training data available. Augmentation allows us to 'create' a larger dataset programatically. \n",
        "\n",
        "For this lab we will use a subset of MNIST that is very small, to better understand the effect of augmentation. "
      ]
    },
    {
      "cell_type": "code",
      "metadata": {
        "id": "gJvmWJ58ovx5",
        "colab": {
          "base_uri": "https://localhost:8080/"
        },
        "outputId": "6e88bf07-d0bc-4c5e-a182-5e0919ddc205"
      },
      "source": [
        "#loading the dataset\n",
        "(train_X, train_y), (test_X, test_y) = mnist.load_data()\n",
        "train_X = train_X/255\n",
        "test_X = test_X/255\n",
        "print(len(test_X))\n",
        "\n",
        "train_X = train_X[::1200,:,:].copy() # subsample. Otherwise it will take too long!\n",
        "train_y = train_y[::1200].copy() # do the same to the labels\n"
      ],
      "execution_count": null,
      "outputs": [
        {
          "output_type": "stream",
          "name": "stdout",
          "text": [
            "10000\n"
          ]
        }
      ]
    },
    {
      "cell_type": "code",
      "metadata": {
        "colab": {
          "base_uri": "https://localhost:8080/"
        },
        "id": "_OPVbsRJLA_R",
        "outputId": "8e551829-b38b-4683-efed-c12009306844"
      },
      "source": [
        "train_X.shape"
      ],
      "execution_count": null,
      "outputs": [
        {
          "output_type": "execute_result",
          "data": {
            "text/plain": [
              "(50, 28, 28)"
            ]
          },
          "metadata": {},
          "execution_count": 103
        }
      ]
    },
    {
      "cell_type": "markdown",
      "metadata": {
        "id": "8XamH6z1Rt7S"
      },
      "source": [
        "Let us borrow a few functions from the previous labs:"
      ]
    },
    {
      "cell_type": "code",
      "metadata": {
        "id": "Zk2W5_3BRLMS"
      },
      "source": [
        "def NN1(traindata, trainlabel, query):\n",
        "  diff  = traindata - query  # find the difference between features. Numpy automatically takes care of the size here \n",
        "  sq = diff*diff # square the differences\n",
        "  dist = sq.sum(1) # add up the squares\n",
        "  label = trainlabel[np.argmin(dist)] # our predicted label is the label of the training data which has the least distance from the query\n",
        "  return label\n",
        "\n",
        "def NN(traindata, trainlabel, testdata):\n",
        "  # we will run nearest neighbour for each sample in the test data \n",
        "  # and collect the predicted classes in an array using list comprehension\n",
        "  traindata = traindata.reshape(-1, 28*28)\n",
        "  testdata = testdata.reshape(-1,28*28)\n",
        "  predlabel = np.array([NN1(traindata, trainlabel, i) for i in testdata])\n",
        "  return predlabel\n",
        "\n",
        "def Accuracy(gtlabel, predlabel):\n",
        "  assert len(gtlabel)==len(predlabel), \"Length of the groundtruth labels and predicted labels should be the same\"\n",
        "  correct = (gtlabel==predlabel).sum() # count the number of times the groundtruth label is equal to the predicted label.\n",
        "  return correct/len(gtlabel)"
      ],
      "execution_count": null,
      "outputs": []
    },
    {
      "cell_type": "markdown",
      "metadata": {
        "id": "eGiA3LmDSJZo"
      },
      "source": [
        "In this lab, we will use the image pixels themselves as features, instead of extracting features. Each image has 28*28 pixels, so we will flatten them to 784 pixels to use as features. Note that this is very compute intensive and will take a long time.<br>\n",
        "\n",
        "Let us check the baseline accuracy on the test set without any augmentations. We hope that adding augmentations will help us to get better results."
      ]
    },
    {
      "cell_type": "code",
      "metadata": {
        "id": "4tQvnoasRNEV",
        "colab": {
          "base_uri": "https://localhost:8080/"
        },
        "outputId": "d4569e7d-cb7a-4892-bf9a-3d0df2e9a816"
      },
      "source": [
        "testpred = NN(train_X, train_y, test_X)\n",
        "print('Baseline accuracy without augmentation is ', Accuracy(test_y, testpred))"
      ],
      "execution_count": null,
      "outputs": [
        {
          "output_type": "stream",
          "name": "stdout",
          "text": [
            "Baseline accuracy without augmentation is  0.6472\n"
          ]
        }
      ]
    },
    {
      "cell_type": "markdown",
      "metadata": {
        "id": "ZfkcMfhIZQ7U"
      },
      "source": [
        "Let us try to improve this accuracy using augmentations. When we create augmentations, we have to make sure that the changes reflect what will naturally occur in the dataset. For example, we should not add colour to our samples as an augmentation because they do not naturally occur. We should not also flip the images in MNIST, because flipped images have different meanings for digits. \n",
        "\n",
        "### Augmentation 1: rotation\n",
        "\n",
        "Let us try rotating the image a little. We will use skimage library for this. "
      ]
    },
    {
      "cell_type": "code",
      "metadata": {
        "id": "z5WolJ9fZE7L",
        "colab": {
          "base_uri": "https://localhost:8080/",
          "height": 531
        },
        "outputId": "cd76791d-ba3a-484b-cd10-42930b70fa9b"
      },
      "source": [
        "plt.imshow(train_X[10], cmap='gray')\n",
        "plt.show()\n",
        "plt.imshow(rotate(train_X[10],45), cmap='gray')"
      ],
      "execution_count": null,
      "outputs": [
        {
          "output_type": "display_data",
          "data": {
            "image/png": "[encoded data removed]",
            "text/plain": [
              "<Figure size 432x288 with 1 Axes>"
            ]
          },
          "metadata": {
            "needs_background": "light"
          }
        },
        {
          "output_type": "execute_result",
          "data": {
            "text/plain": [
              "<matplotlib.image.AxesImage at 0x7fc25cfc77d0>"
            ]
          },
          "metadata": {},
          "execution_count": 106
        },
        {
          "output_type": "display_data",
          "data": {
            "image/png": "[encoded data removed]",
            "text/plain": [
              "<Figure size 432x288 with 1 Axes>"
            ]
          },
          "metadata": {
            "needs_background": "light"
          }
        }
      ]
    },
    {
      "cell_type": "markdown",
      "metadata": {
        "id": "KE33Yxgggu0c"
      },
      "source": [
        "After rotating, the the class of the image is still the same. Let us make a function to rotate multiple images by random angles. We want a slightly different image every time we run this function. So, we generate a random number between 0 and 1 and change it so that it lies between -constraint/2 and +constraint/2"
      ]
    },
    {
      "cell_type": "code",
      "metadata": {
        "id": "vyM7pUV7Reze"
      },
      "source": [
        "def augRotate(sample, angleconstraint):\n",
        "  if angleconstraint==0:\n",
        "    return sample\n",
        "  if len(sample.shape)==2:\n",
        "    sample = np.expand_dims(sample, 0)  # make sure the sample is 3 dimensional\n",
        "  angle = rng.random(len(sample)) # generate random numbers for anglese\n",
        "  angle = (angle-0.5)*angleconstraint # make the random angle constrained\n",
        "  nsample = sample.copy() # preallocate the augmented array to make it faster\n",
        "  for ii in range(len(sample)):\n",
        "    nsample[ii] = rotate(sample[ii], angle[ii])\n",
        "  return np.squeeze(nsample) # take care if the input had only one sample."
      ],
      "execution_count": null,
      "outputs": []
    },
    {
      "cell_type": "markdown",
      "metadata": {
        "id": "kDk-N5VNjar9"
      },
      "source": [
        "This function returns a slightly different image each time we call it. So we can increase the number of images in the sample by any multiple. "
      ]
    },
    {
      "cell_type": "code",
      "metadata": {
        "id": "Vw3O9zGFgI8K",
        "colab": {
          "base_uri": "https://localhost:8080/",
          "height": 415
        },
        "outputId": "2479cf8e-664c-4fa4-f2ce-0e1944059e06"
      },
      "source": [
        "sample = train_X[20]\n",
        "angleconstraint = 70\n",
        "# show the original image\n",
        "plt.imshow(sample, cmap='gray')\n",
        "plt.show()\n",
        "plt.subplot(1,3,1)\n",
        "plt.imshow(augRotate(sample, angleconstraint), cmap='gray') # show an augmented image\n",
        "plt.subplot(1,3,2)\n",
        "plt.imshow(augRotate(sample, angleconstraint), cmap='gray') # show another augmented image from the same sample\n",
        "plt.subplot(1,3,3)\n",
        "plt.imshow(augRotate(sample, angleconstraint), cmap='gray') # one more image from the same sample"
      ],
      "execution_count": null,
      "outputs": [
        {
          "output_type": "display_data",
          "data": {
            "image/png": "[encoded data removed]",
            "text/plain": [
              "<Figure size 432x288 with 1 Axes>"
            ]
          },
          "metadata": {
            "needs_background": "light"
          }
        },
        {
          "output_type": "execute_result",
          "data": {
            "text/plain": [
              "<matplotlib.image.AxesImage at 0x7fc25d0ac910>"
            ]
          },
          "metadata": {},
          "execution_count": 108
        },
        {
          "output_type": "display_data",
          "data": {
            "image/png": "[encoded data removed]",
            "text/plain": [
              "<Figure size 432x288 with 3 Axes>"
            ]
          },
          "metadata": {
            "needs_background": "light"
          }
        }
      ]
    },
    {
      "cell_type": "markdown",
      "metadata": {
        "id": "ytv3NxF-kgxN"
      },
      "source": [
        "Let us augment the whole dataset and see if this improves the test accuracy"
      ]
    },
    {
      "cell_type": "code",
      "metadata": {
        "id": "iNzNAoDBkRzj",
        "colab": {
          "base_uri": "https://localhost:8080/"
        },
        "outputId": "1c9e9066-d559-4df2-c465-aff4f940bdfa"
      },
      "source": [
        "# hyperparameters\n",
        "angleconstraint = 60\n",
        "naugmentations = 5\n",
        "\n",
        "# augment\n",
        "augdata = train_X # we include the original images also in the augmented dataset\n",
        "auglabel = train_y\n",
        "for ii in range(naugmentations):\n",
        "  augdata = np.concatenate((augdata, augRotate(train_X, angleconstraint))) # concatenate the augmented data to the set    ask doubt\n",
        "  auglabel = np.concatenate((auglabel, train_y))  # the labels don't change when we augment\n",
        "\n",
        "# check the test accuracy\n",
        "testpred = NN(augdata, auglabel, test_X)\n",
        "print('Accuracy after rotation augmentation is ', Accuracy(test_y, testpred))"
      ],
      "execution_count": null,
      "outputs": [
        {
          "output_type": "stream",
          "name": "stdout",
          "text": [
            "Accuracy after rotation augmentation is  0.6616\n"
          ]
        }
      ]
    },
    {
      "cell_type": "markdown",
      "metadata": {
        "id": "E88Nt9s1p5R6"
      },
      "source": [
        "The angle constraint is a hyperparameter which we have to tune using a validation set. (Here we are not doing that for time constraints). Let us try a grid search to find the best angle constraint."
      ]
    },
    {
      "cell_type": "code",
      "metadata": {
        "id": "aiaFRLREmGp6",
        "colab": {
          "base_uri": "https://localhost:8080/"
        },
        "outputId": "7be42795-f87d-4a5a-cb70-f751731c01b2"
      },
      "source": [
        "angleconstraints = [0,10,20,30,40,50,60,70,80,90] # the values we want to test\n",
        "accuracies = np.zeros(len(angleconstraints), dtype=np.float) # we will save the values here\n",
        "\n",
        "for ii in range(len(angleconstraints)):\n",
        "  # create the augmented dataset\n",
        "  augdata = train_X # we include the original images also in the augmented dataset\n",
        "  auglabel = train_y\n",
        "  for jj in range(naugmentations):\n",
        "    augdata = np.concatenate((augdata, augRotate(train_X, angleconstraints[ii]))) # concatenate the augmented data to the set\n",
        "    auglabel = np.concatenate((auglabel, train_y))  # the labels don't change when we augment\n",
        "\n",
        "  # check the test accuracy\n",
        "  testpred = NN(augdata, auglabel, test_X)\n",
        "  accuracies[ii] = Accuracy(test_y, testpred)\n",
        "  print('Accuracy after rotation augmentation constrained by ',angleconstraints[ii], ' is ', accuracies[ii], flush=True)"
      ],
      "execution_count": null,
      "outputs": [
        {
          "output_type": "stream",
          "name": "stdout",
          "text": [
            "Accuracy after rotation augmentation constrained by  0  is  0.6472\n",
            "Accuracy after rotation augmentation constrained by  10  is  0.6727\n",
            "Accuracy after rotation augmentation constrained by  20  is  0.673\n",
            "Accuracy after rotation augmentation constrained by  30  is  0.6737\n",
            "Accuracy after rotation augmentation constrained by  40  is  0.6731\n",
            "Accuracy after rotation augmentation constrained by  50  is  0.6701\n",
            "Accuracy after rotation augmentation constrained by  60  is  0.6675\n",
            "Accuracy after rotation augmentation constrained by  70  is  0.661\n",
            "Accuracy after rotation augmentation constrained by  80  is  0.6462\n",
            "Accuracy after rotation augmentation constrained by  90  is  0.6469\n"
          ]
        }
      ]
    },
    {
      "cell_type": "markdown",
      "metadata": {
        "id": "2oVDRYP2rxob"
      },
      "source": [
        "Let us see the best value for angle constraint: (Ideally this should be done on validation set, not test set)"
      ]
    },
    {
      "cell_type": "code",
      "metadata": {
        "id": "LqthJa_pmMHz",
        "colab": {
          "base_uri": "https://localhost:8080/",
          "height": 314
        },
        "outputId": "25b3c8ba-20cf-40ed-d280-6f6077460c3a"
      },
      "source": [
        "fig = plt.figure()\n",
        "ax = fig.add_axes([0.1, 0.1, 0.8, 0.8]) # main axes\n",
        "# plot the variation of accuracy\n",
        "ax.plot(angleconstraints, accuracies)\n",
        "ax.set_xlabel('angle')\n",
        "ax.set_ylabel('accuracy')\n",
        "# plot the maximum accuracy\n",
        "maxind = np.argmax(accuracies)\n",
        "plt.scatter(angleconstraints[maxind], accuracies[maxind], c='red')"
      ],
      "execution_count": null,
      "outputs": [
        {
          "output_type": "execute_result",
          "data": {
            "text/plain": [
              "<matplotlib.collections.PathCollection at 0x7fc260cb6a10>"
            ]
          },
          "metadata": {},
          "execution_count": 111
        },
        {
          "output_type": "display_data",
          "data": {
            "image/png": "[encoded data removed]",
            "text/plain": [
              "<Figure size 432x288 with 1 Axes>"
            ]
          },
          "metadata": {
            "needs_background": "light"
          }
        }
      ]
    },
    {
      "cell_type": "markdown",
      "metadata": {
        "id": "eJ8YuVfCuGTj"
      },
      "source": [
        "Let us try one more augmentation: shear. Here is what this looks like:"
      ]
    },
    {
      "cell_type": "code",
      "metadata": {
        "id": "pMiw46NLwssK"
      },
      "source": [
        "def shear(sample, amount):\n",
        "  tform = AffineTransform(shear = amount) # create the shear transform\n",
        "  img = warp(sample, tform) # apply the shear\n",
        "  # this makes the digit off-center. Since all the images in the test set are centralized, we will do the same here\n",
        "  col = img.sum(0).nonzero()[0]\n",
        "  row = img.sum(1).nonzero()[0]\n",
        "  if len(col)>0 and len(row)>0:\n",
        "    xshift = int(sample.shape[0]/2 - (row[0]+row[-1])/2)\n",
        "    yshift = int(sample.shape[1]/2 - (col[0]+col[-1])/2)\n",
        "    img = np.roll(img, (xshift, yshift),(0,1))\n",
        "  return img"
      ],
      "execution_count": null,
      "outputs": []
    },
    {
      "cell_type": "code",
      "metadata": {
        "id": "4_u_EYpmnABK",
        "colab": {
          "base_uri": "https://localhost:8080/",
          "height": 531
        },
        "outputId": "f0229897-1283-4495-f8ec-2b7d4c7a2c4b"
      },
      "source": [
        "sample = train_X[2]\n",
        "plt.imshow(sample, cmap='gray')\n",
        "plt.show()\n",
        "\n",
        "# apply shear\n",
        "plt.imshow(shear(sample, 0.4), cmap='gray')"
      ],
      "execution_count": null,
      "outputs": [
        {
          "output_type": "display_data",
          "data": {
            "image/png": "[encoded data removed]",
            "text/plain": [
              "<Figure size 432x288 with 1 Axes>"
            ]
          },
          "metadata": {
            "needs_background": "light"
          }
        },
        {
          "output_type": "execute_result",
          "data": {
            "text/plain": [
              "<matplotlib.image.AxesImage at 0x7fc25cf2acd0>"
            ]
          },
          "metadata": {},
          "execution_count": 113
        },
        {
          "output_type": "display_data",
          "data": {
            "image/png": "[encoded data removed]",
            "text/plain": [
              "<Figure size 432x288 with 1 Axes>"
            ]
          },
          "metadata": {
            "needs_background": "light"
          }
        }
      ]
    },
    {
      "cell_type": "markdown",
      "metadata": {
        "id": "lGnWMoyM2pK4"
      },
      "source": [
        "Create an augmentation function which applies a random shear according to the constraint we provide:"
      ]
    },
    {
      "cell_type": "code",
      "metadata": {
        "id": "-qLDJyGytwP5"
      },
      "source": [
        "def augShear(sample, shearconstraint):\n",
        "  if shearconstraint==0:\n",
        "    return sample\n",
        "  if len(sample.shape)==2:\n",
        "    sample = np.expand_dims(sample, 0)  # make sure the sample is 3 dimensional\n",
        "  amt = rng.random(len(sample)) # generate random numbers for shear\n",
        "  amt = (amt-0.5)*shearconstraint # make the random shear constrained\n",
        "  nsample = sample.copy() # preallocate the augmented array to make it faster\n",
        "  for ii in range(len(sample)):\n",
        "    nsample[ii] = shear(sample[ii], amt[ii])\n",
        "  return np.squeeze(nsample) # take care if the input had only one sample."
      ],
      "execution_count": null,
      "outputs": []
    },
    {
      "cell_type": "markdown",
      "metadata": {
        "id": "s6lQcWW93suJ"
      },
      "source": [
        "Let us do a grid search to find the best shear constraint."
      ]
    },
    {
      "cell_type": "code",
      "metadata": {
        "id": "l_wrqPkrzBb_",
        "colab": {
          "base_uri": "https://localhost:8080/"
        },
        "outputId": "2aae8b08-d503-48d5-d15b-2de1df8786f3"
      },
      "source": [
        "shearconstraints = [0, 0.2,0.4,0.6,0.8,1.0,1.2,1.4,1.6,1.8,2.0] # the values we want to test\n",
        "accuracies = np.zeros(len(shearconstraints), dtype=np.float) # we will save the values here\n",
        "\n",
        "for ii in range(len(shearconstraints)):\n",
        "  # create the augmented dataset\n",
        "  augdata = train_X # we include the original images also in the augmented dataset\n",
        "  auglabel = train_y\n",
        "  for jj in range(naugmentations):\n",
        "    augdata = np.concatenate((augdata, augShear(train_X, shearconstraints[ii]))) # concatenate the augmented data to the set\n",
        "    auglabel = np.concatenate((auglabel, train_y))  # the labels don't change when we augment\n",
        "\n",
        "  # check the test accuracy\n",
        "  testpred = NN(augdata, auglabel, test_X)\n",
        "  accuracies[ii] = Accuracy(test_y, testpred)\n",
        "  print('Accuracy after shear augmentation constrained by ',shearconstraints[ii], ' is ', accuracies[ii], flush=True)"
      ],
      "execution_count": null,
      "outputs": [
        {
          "output_type": "stream",
          "name": "stdout",
          "text": [
            "Accuracy after shear augmentation constrained by  0  is  0.6472\n",
            "Accuracy after shear augmentation constrained by  0.2  is  0.6147\n",
            "Accuracy after shear augmentation constrained by  0.4  is  0.632\n",
            "Accuracy after shear augmentation constrained by  0.6  is  0.6351\n",
            "Accuracy after shear augmentation constrained by  0.8  is  0.6636\n",
            "Accuracy after shear augmentation constrained by  1.0  is  0.6652\n",
            "Accuracy after shear augmentation constrained by  1.2  is  0.6495\n",
            "Accuracy after shear augmentation constrained by  1.4  is  0.6181\n",
            "Accuracy after shear augmentation constrained by  1.6  is  0.6323\n",
            "Accuracy after shear augmentation constrained by  1.8  is  0.6432\n",
            "Accuracy after shear augmentation constrained by  2.0  is  0.6277\n"
          ]
        }
      ]
    },
    {
      "cell_type": "code",
      "metadata": {
        "id": "EKaH-YR-zVnA",
        "colab": {
          "base_uri": "https://localhost:8080/",
          "height": 310
        },
        "outputId": "6c7b1d62-a641-4462-b1c2-3e14afef8184"
      },
      "source": [
        "fig = plt.figure()\n",
        "ax = fig.add_axes([0.1, 0.1, 0.8, 0.8]) # main axes\n",
        "# plot the variation of accuracy\n",
        "ax.plot(shearconstraints, accuracies)\n",
        "ax.set_xlabel('Shear')\n",
        "ax.set_ylabel('accuracy')\n",
        "# plot the maximum accuracy\n",
        "maxind = np.argmax(accuracies)\n",
        "plt.scatter(shearconstraints[maxind], accuracies[maxind], c='red')"
      ],
      "execution_count": null,
      "outputs": [
        {
          "output_type": "execute_result",
          "data": {
            "text/plain": [
              "<matplotlib.collections.PathCollection at 0x7fc25ceba1d0>"
            ]
          },
          "metadata": {},
          "execution_count": 116
        },
        {
          "output_type": "display_data",
          "data": {
            "image/png": "[encoded data removed]",
            "text/plain": [
              "<Figure size 432x288 with 1 Axes>"
            ]
          },
          "metadata": {
            "needs_background": "light"
          }
        }
      ]
    },
    {
      "cell_type": "markdown",
      "metadata": {
        "id": "ccfdbRcQ7Zgg"
      },
      "source": [
        "We can do multiple augmentations at the same time. Here is a function to do both shear and rotation to the sample. In this case, we will have two hyperparameters. "
      ]
    },
    {
      "cell_type": "code",
      "metadata": {
        "id": "sh8S_Pxa0XCv"
      },
      "source": [
        "def augRotateShear(sample, angleconstraint, shearconstraint):\n",
        "  if len(sample.shape)==2:\n",
        "    sample = np.expand_dims(sample, 0)  # make sure the sample is 3 dimensional\n",
        "  amt = rng.random(len(sample)) # generate random numbers for shear\n",
        "  amt = (amt-0.5)*shearconstraint # make the random shear constrained\n",
        "  angle = rng.random(len(sample)) # generate random numbers for angles\n",
        "  angle = (angle-0.5)*angleconstraint # make the random angle constrained\n",
        "  nsample = sample.copy() # preallocate the augmented array to make it faster\n",
        "  for ii in range(len(sample)):\n",
        "    nsample[ii] = rotate(shear(sample[ii], amt[ii]), angle[ii]) # first apply shear, then rotate\n",
        "  return np.squeeze(nsample) # take care if the input had only one sample."
      ],
      "execution_count": null,
      "outputs": []
    },
    {
      "cell_type": "markdown",
      "metadata": {
        "id": "OGKyjjNx-NQ4"
      },
      "source": [
        "Since we have two hyperparameters, we have to do the grid search on a 2 dimensional matrix. We can use our previous experience to inform where to search for the best hyperparameters. "
      ]
    },
    {
      "cell_type": "code",
      "metadata": {
        "id": "TJC45WRg0pOP",
        "colab": {
          "base_uri": "https://localhost:8080/"
        },
        "outputId": "c6e0c5b6-3523-45ff-d111-89d48ee7edb9"
      },
      "source": [
        "shearconstraints = [0, 0.2,0.4,0.6,0.8,1.0,1.2,1.4,1.6] # the values we want to test\n",
        "angleconstraints = [0,10,20,30,40,50,60] # the values we want to test\n",
        "hyp = cartesian((shearconstraints, angleconstraints)) # cartesian product of both\n",
        "\n",
        "accuracies = np.zeros(len(hyp), dtype=np.float) # we will save the values here\n",
        "\n",
        "for ii in range(len(hyp)):\n",
        "  # create the augmented dataset\n",
        "  augdata = train_X # we include the original images also in the augmented dataset\n",
        "  auglabel = train_y\n",
        "  for jj in range(naugmentations):\n",
        "    augdata = np.concatenate((augdata, augRotateShear(train_X, hyp[ii][0], hyp[ii][1]))) # concatenate the augmented data to the set\n",
        "    auglabel = np.concatenate((auglabel, train_y))  # the labels don't change when we augment\n",
        "\n",
        "  # check the test accuracy\n",
        "  testpred = NN(augdata, auglabel, test_X)\n",
        "  accuracies[ii] = Accuracy(test_y, testpred)\n",
        "  print('Accuracy after augmentation shear:',hyp[ii][0], 'angle:',hyp[ii][1], ' is ', accuracies[ii], flush=True)"
      ],
      "execution_count": null,
      "outputs": [
        {
          "output_type": "stream",
          "name": "stdout",
          "text": [
            "Accuracy after augmentation shear: 0.0 angle: 0.0  is  0.6332\n",
            "Accuracy after augmentation shear: 0.0 angle: 10.0  is  0.6151\n",
            "Accuracy after augmentation shear: 0.0 angle: 20.0  is  0.5997\n",
            "Accuracy after augmentation shear: 0.0 angle: 30.0  is  0.5915\n",
            "Accuracy after augmentation shear: 0.0 angle: 40.0  is  0.6198\n",
            "Accuracy after augmentation shear: 0.0 angle: 50.0  is  0.6031\n",
            "Accuracy after augmentation shear: 0.0 angle: 60.0  is  0.5916\n",
            "Accuracy after augmentation shear: 0.2 angle: 0.0  is  0.634\n",
            "Accuracy after augmentation shear: 0.2 angle: 10.0  is  0.5991\n",
            "Accuracy after augmentation shear: 0.2 angle: 20.0  is  0.6044\n",
            "Accuracy after augmentation shear: 0.2 angle: 30.0  is  0.6358\n",
            "Accuracy after augmentation shear: 0.2 angle: 40.0  is  0.5827\n",
            "Accuracy after augmentation shear: 0.2 angle: 50.0  is  0.579\n",
            "Accuracy after augmentation shear: 0.2 angle: 60.0  is  0.5877\n",
            "Accuracy after augmentation shear: 0.4 angle: 0.0  is  0.6344\n",
            "Accuracy after augmentation shear: 0.4 angle: 10.0  is  0.6151\n",
            "Accuracy after augmentation shear: 0.4 angle: 20.0  is  0.5988\n",
            "Accuracy after augmentation shear: 0.4 angle: 30.0  is  0.6107\n",
            "Accuracy after augmentation shear: 0.4 angle: 40.0  is  0.6177\n",
            "Accuracy after augmentation shear: 0.4 angle: 50.0  is  0.5855\n",
            "Accuracy after augmentation shear: 0.4 angle: 60.0  is  0.5893\n",
            "Accuracy after augmentation shear: 0.6 angle: 0.0  is  0.6339\n",
            "Accuracy after augmentation shear: 0.6 angle: 10.0  is  0.6191\n",
            "Accuracy after augmentation shear: 0.6 angle: 20.0  is  0.595\n",
            "Accuracy after augmentation shear: 0.6 angle: 30.0  is  0.5963\n",
            "Accuracy after augmentation shear: 0.6 angle: 40.0  is  0.6203\n",
            "Accuracy after augmentation shear: 0.6 angle: 50.0  is  0.5859\n",
            "Accuracy after augmentation shear: 0.6 angle: 60.0  is  0.6094\n",
            "Accuracy after augmentation shear: 0.8 angle: 0.0  is  0.6354\n",
            "Accuracy after augmentation shear: 0.8 angle: 10.0  is  0.6208\n",
            "Accuracy after augmentation shear: 0.8 angle: 20.0  is  0.5928\n",
            "Accuracy after augmentation shear: 0.8 angle: 30.0  is  0.5875\n",
            "Accuracy after augmentation shear: 0.8 angle: 40.0  is  0.6242\n",
            "Accuracy after augmentation shear: 0.8 angle: 50.0  is  0.5796\n",
            "Accuracy after augmentation shear: 0.8 angle: 60.0  is  0.5947\n",
            "Accuracy after augmentation shear: 1.0 angle: 0.0  is  0.6334\n",
            "Accuracy after augmentation shear: 1.0 angle: 10.0  is  0.6178\n",
            "Accuracy after augmentation shear: 1.0 angle: 20.0  is  0.6074\n",
            "Accuracy after augmentation shear: 1.0 angle: 30.0  is  0.5934\n",
            "Accuracy after augmentation shear: 1.0 angle: 40.0  is  0.6199\n",
            "Accuracy after augmentation shear: 1.0 angle: 50.0  is  0.5865\n",
            "Accuracy after augmentation shear: 1.0 angle: 60.0  is  0.5952\n",
            "Accuracy after augmentation shear: 1.2 angle: 0.0  is  0.6328\n",
            "Accuracy after augmentation shear: 1.2 angle: 10.0  is  0.5727\n",
            "Accuracy after augmentation shear: 1.2 angle: 20.0  is  0.617\n",
            "Accuracy after augmentation shear: 1.2 angle: 30.0  is  0.5852\n",
            "Accuracy after augmentation shear: 1.2 angle: 40.0  is  0.5813\n",
            "Accuracy after augmentation shear: 1.2 angle: 50.0  is  0.587\n",
            "Accuracy after augmentation shear: 1.2 angle: 60.0  is  0.6195\n",
            "Accuracy after augmentation shear: 1.4 angle: 0.0  is  0.6344\n",
            "Accuracy after augmentation shear: 1.4 angle: 10.0  is  0.6069\n",
            "Accuracy after augmentation shear: 1.4 angle: 20.0  is  0.601\n",
            "Accuracy after augmentation shear: 1.4 angle: 30.0  is  0.5848\n",
            "Accuracy after augmentation shear: 1.4 angle: 40.0  is  0.6005\n",
            "Accuracy after augmentation shear: 1.4 angle: 50.0  is  0.6045\n",
            "Accuracy after augmentation shear: 1.4 angle: 60.0  is  0.6129\n",
            "Accuracy after augmentation shear: 1.6 angle: 0.0  is  0.6369\n",
            "Accuracy after augmentation shear: 1.6 angle: 10.0  is  0.6097\n",
            "Accuracy after augmentation shear: 1.6 angle: 20.0  is  0.6078\n",
            "Accuracy after augmentation shear: 1.6 angle: 30.0  is  0.6048\n",
            "Accuracy after augmentation shear: 1.6 angle: 40.0  is  0.585\n",
            "Accuracy after augmentation shear: 1.6 angle: 50.0  is  0.5915\n",
            "Accuracy after augmentation shear: 1.6 angle: 60.0  is  0.5941\n"
          ]
        }
      ]
    },
    {
      "cell_type": "markdown",
      "metadata": {
        "id": "PT6CnvSDEX7a"
      },
      "source": [
        "Let us plot it two dimensionally to see which is the best value for the hyperparameters:"
      ]
    },
    {
      "cell_type": "code",
      "metadata": {
        "id": "jD2i7msI_cLd",
        "colab": {
          "base_uri": "https://localhost:8080/",
          "height": 310
        },
        "outputId": "114c54d7-c341-4fc3-f7c1-a85718a6bba7"
      },
      "source": [
        "fig = plt.figure()\n",
        "ax = fig.add_axes([0.1, 0.1, 0.8, 0.8]) # main axes\n",
        "im = ax.imshow(accuracies.reshape((len(shearconstraints), len(angleconstraints))), cmap='inferno') \n",
        "ax.set_xlabel('angle')\n",
        "ax.set_ylabel('shear')\n",
        "ax.set_xticks(np.arange(len(angleconstraints)));\n",
        "ax.set_xticklabels(angleconstraints);\n",
        "ax.set_yticks(np.arange(len(shearconstraints)));\n",
        "ax.set_yticklabels(shearconstraints);\n",
        "plt.colorbar(im)"
      ],
      "execution_count": null,
      "outputs": [
        {
          "output_type": "execute_result",
          "data": {
            "text/plain": [
              "<matplotlib.colorbar.Colorbar at 0x7fc25cde1290>"
            ]
          },
          "metadata": {},
          "execution_count": 119
        },
        {
          "output_type": "display_data",
          "data": {
            "image/png": "[encoded data removed]",
            "text/plain": [
              "<Figure size 432x288 with 2 Axes>"
            ]
          },
          "metadata": {
            "needs_background": "light"
          }
        }
      ]
    },
    {
      "cell_type": "markdown",
      "metadata": {
        "id": "OHcZWJiFJDMh"
      },
      "source": [
        "It seems that rotation and shear don't mix! The best accuracy is when rotation is zero."
      ]
    },
    {
      "cell_type": "markdown",
      "metadata": {
        "id": "PAasQo1C3x4A"
      },
      "source": [
        "## Questions\n",
        "Try these questions for better understanding. You may not be able to solve all of them. \n",
        "1. What is the best value for angle constraint and shear constraint you got? How much did the accuracy improve as compared to not using augmentations?\n",
        "2. Can you increase the accuracy by increasing the number of augmentations from each sample?\n",
        "3. Try implementing a few augmentations of your own and experimenting with them. A good reference is <a href=https://www.analyticsvidhya.com/blog/2019/12/image-augmentation-deep-learning-pytorch/>here. </a>\n",
        "4. Try combining various augmentations. What is the highest accuracy you can get? What is the smallest training dataset you can take and still get accuracy above 50%?\n",
        "\n",
        "Whenever you do any experiment, a good practice is to vary the hyperparameters gradually and create a graph of your results, like we did for gridsearch. "
      ]
    },
    {
      "cell_type": "markdown",
      "metadata": {
        "id": "JHpRRwgZ9gjQ"
      },
      "source": [
        "1st **Question**"
      ]
    },
    {
      "cell_type": "markdown",
      "metadata": {
        "id": "5CqImpOL-1lH"
      },
      "source": [
        "The Best value for angle constraint is 30    \n",
        "The Best value for Shear constraint is 0.8 \n",
        "\n",
        "The accuracy is increased by 4%."
      ]
    },
    {
      "cell_type": "markdown",
      "metadata": {
        "id": "jywo9zl-9NgU"
      },
      "source": [
        "2nd **Question** "
      ]
    },
    {
      "cell_type": "markdown",
      "metadata": {
        "id": "jSsm1Fyo9RVA"
      },
      "source": [
        "Yes, By increasing the number of agumentations we can get the better accuracy for each sample."
      ]
    },
    {
      "cell_type": "markdown",
      "metadata": {
        "id": "yzHOL7UUmVli"
      },
      "source": [
        "3rd **Question**"
      ]
    },
    {
      "cell_type": "code",
      "metadata": {
        "colab": {
          "base_uri": "https://localhost:8080/",
          "height": 299
        },
        "id": "DwoTg0XzmVI-",
        "outputId": "c6da2f9f-72c5-4609-9138-95b52644bd19"
      },
      "source": [
        "\n",
        "noiseval=0.175\n",
        "img=random_noise(train_X[9],var=noiseval**2)\n",
        "plt.imshow(img,cmap='gray')\n",
        "plt.title('Noise Image')\n",
        "\n"
      ],
      "execution_count": null,
      "outputs": [
        {
          "output_type": "execute_result",
          "data": {
            "text/plain": [
              "Text(0.5, 1.0, 'Noise Image')"
            ]
          },
          "metadata": {},
          "execution_count": 131
        },
        {
          "output_type": "display_data",
          "data": {
            "image/png": "[encoded data removed]",
            "text/plain": [
              "<Figure size 432x288 with 1 Axes>"
            ]
          },
          "metadata": {
            "needs_background": "light"
          }
        }
      ]
    },
    {
      "cell_type": "markdown",
      "metadata": {
        "id": "b2CLnVT0G6nl"
      },
      "source": [
        "4th **Question**"
      ]
    },
    {
      "cell_type": "code",
      "metadata": {
        "colab": {
          "base_uri": "https://localhost:8080/"
        },
        "id": "nICKUTECHr4T",
        "outputId": "8b304eac-4bba-4c97-ca02-bd123af80bde"
      },
      "source": [
        "(train_X, train_y), (test_X, test_y) = mnist.load_data()\n",
        "train_X = train_X/255\n",
        "test_X = test_X/255\n",
        "\n",
        "train_X = train_X[::4700,:,:].copy() # subsample. Otherwise it will take too long!\n",
        "train_y = train_y[::4700].copy() # do the same to the labels\n",
        "print(len(train_X))\n"
      ],
      "execution_count": null,
      "outputs": [
        {
          "output_type": "stream",
          "name": "stdout",
          "text": [
            "13\n"
          ]
        }
      ]
    },
    {
      "cell_type": "code",
      "metadata": {
        "colab": {
          "base_uri": "https://localhost:8080/"
        },
        "id": "4fv0q0GXIdDb",
        "outputId": "619b6be3-6c59-4812-e89e-426a8ff7b6dc"
      },
      "source": [
        "testpred = NN(train_X, train_y, test_X)\n",
        "print('Baseline accuracy without augmentation is ', Accuracy(test_y, testpred))"
      ],
      "execution_count": null,
      "outputs": [
        {
          "output_type": "stream",
          "name": "stdout",
          "text": [
            "Baseline accuracy without augmentation is  0.4777\n"
          ]
        }
      ]
    },
    {
      "cell_type": "code",
      "metadata": {
        "colab": {
          "base_uri": "https://localhost:8080/"
        },
        "id": "Axk258-gG9dD",
        "outputId": "5d23282d-75a2-4b68-8a0d-4bdee59d4b57"
      },
      "source": [
        "shearconstraints = [0, 0.2,0.4,0.6,0.8,1.0,1.2,1.4,1.6] # the values we want to test\n",
        "angleconstraints = [0,10,20,30,40,50,60] # the values we want to test\n",
        "hyp = cartesian((shearconstraints, angleconstraints)) # cartesian product of both\n",
        "\n",
        "accuracies = np.zeros(len(hyp), dtype=np.float) # we will save the values here\n",
        "naugmentations=5\n",
        "for ii in range(len(hyp)):\n",
        "  # create the augmented dataset\n",
        "  augdata = train_X # we include the original images also in the augmented dataset\n",
        "  auglabel = train_y\n",
        "  for jj in range(naugmentations):\n",
        "    augdata = np.concatenate((augdata, augRotate(train_X, hyp[ii][1]))) # concatenate the augmented data to the set\n",
        "    auglabel = np.concatenate((auglabel, train_y))  # the labels don't change when we augment\n",
        "    augdata = np.concatenate((augdata, augShear(train_X, hyp[ii][0]))) # concatenate the augmented data to the set\n",
        "    auglabel = np.concatenate((auglabel, train_y))  # the labels don't change when we augment\n",
        "\n",
        "  # check the test accuracy\n",
        "  testpred = NN(augdata, auglabel, test_X)\n",
        "  accuracies[ii] = Accuracy(test_y, testpred)\n",
        "  print('Accuracy after augmentation shear:',hyp[ii][0], 'angle:',hyp[ii][1], ' is ', accuracies[ii], flush=True)"
      ],
      "execution_count": null,
      "outputs": [
        {
          "output_type": "stream",
          "name": "stdout",
          "text": [
            "Accuracy after augmentation shear: 0.0 angle: 0.0  is  0.4777\n",
            "Accuracy after augmentation shear: 0.0 angle: 10.0  is  0.4988\n",
            "Accuracy after augmentation shear: 0.0 angle: 20.0  is  0.4951\n",
            "Accuracy after augmentation shear: 0.0 angle: 30.0  is  0.4952\n",
            "Accuracy after augmentation shear: 0.0 angle: 40.0  is  0.516\n",
            "Accuracy after augmentation shear: 0.0 angle: 50.0  is  0.5182\n",
            "Accuracy after augmentation shear: 0.0 angle: 60.0  is  0.5141\n",
            "Accuracy after augmentation shear: 0.2 angle: 0.0  is  0.4525\n",
            "Accuracy after augmentation shear: 0.2 angle: 10.0  is  0.479\n",
            "Accuracy after augmentation shear: 0.2 angle: 20.0  is  0.5021\n",
            "Accuracy after augmentation shear: 0.2 angle: 30.0  is  0.5038\n",
            "Accuracy after augmentation shear: 0.2 angle: 40.0  is  0.4983\n",
            "Accuracy after augmentation shear: 0.2 angle: 50.0  is  0.5169\n",
            "Accuracy after augmentation shear: 0.2 angle: 60.0  is  0.5171\n",
            "Accuracy after augmentation shear: 0.4 angle: 0.0  is  0.4716\n",
            "Accuracy after augmentation shear: 0.4 angle: 10.0  is  0.4903\n",
            "Accuracy after augmentation shear: 0.4 angle: 20.0  is  0.5042\n",
            "Accuracy after augmentation shear: 0.4 angle: 30.0  is  0.5118\n",
            "Accuracy after augmentation shear: 0.4 angle: 40.0  is  0.5149\n",
            "Accuracy after augmentation shear: 0.4 angle: 50.0  is  0.5237\n",
            "Accuracy after augmentation shear: 0.4 angle: 60.0  is  0.5013\n",
            "Accuracy after augmentation shear: 0.6 angle: 0.0  is  0.4902\n",
            "Accuracy after augmentation shear: 0.6 angle: 10.0  is  0.515\n",
            "Accuracy after augmentation shear: 0.6 angle: 20.0  is  0.5096\n",
            "Accuracy after augmentation shear: 0.6 angle: 30.0  is  0.5201\n",
            "Accuracy after augmentation shear: 0.6 angle: 40.0  is  0.5155\n",
            "Accuracy after augmentation shear: 0.6 angle: 50.0  is  0.5231\n",
            "Accuracy after augmentation shear: 0.6 angle: 60.0  is  0.5205\n",
            "Accuracy after augmentation shear: 0.8 angle: 0.0  is  0.4983\n",
            "Accuracy after augmentation shear: 0.8 angle: 10.0  is  0.522\n",
            "Accuracy after augmentation shear: 0.8 angle: 20.0  is  0.5106\n",
            "Accuracy after augmentation shear: 0.8 angle: 30.0  is  0.5201\n",
            "Accuracy after augmentation shear: 0.8 angle: 40.0  is  0.524\n",
            "Accuracy after augmentation shear: 0.8 angle: 50.0  is  0.5228\n",
            "Accuracy after augmentation shear: 0.8 angle: 60.0  is  0.5154\n",
            "Accuracy after augmentation shear: 1.0 angle: 0.0  is  0.5051\n",
            "Accuracy after augmentation shear: 1.0 angle: 10.0  is  0.5145\n",
            "Accuracy after augmentation shear: 1.0 angle: 20.0  is  0.5265\n",
            "Accuracy after augmentation shear: 1.0 angle: 30.0  is  0.5269\n",
            "Accuracy after augmentation shear: 1.0 angle: 40.0  is  0.5284\n",
            "Accuracy after augmentation shear: 1.0 angle: 50.0  is  0.5302\n",
            "Accuracy after augmentation shear: 1.0 angle: 60.0  is  0.5175\n",
            "Accuracy after augmentation shear: 1.2 angle: 0.0  is  0.4981\n",
            "Accuracy after augmentation shear: 1.2 angle: 10.0  is  0.5066\n",
            "Accuracy after augmentation shear: 1.2 angle: 20.0  is  0.4981\n",
            "Accuracy after augmentation shear: 1.2 angle: 30.0  is  0.5388\n",
            "Accuracy after augmentation shear: 1.2 angle: 40.0  is  0.517\n",
            "Accuracy after augmentation shear: 1.2 angle: 50.0  is  0.5234\n",
            "Accuracy after augmentation shear: 1.2 angle: 60.0  is  0.5229\n",
            "Accuracy after augmentation shear: 1.4 angle: 0.0  is  0.5138\n",
            "Accuracy after augmentation shear: 1.4 angle: 10.0  is  0.5113\n",
            "Accuracy after augmentation shear: 1.4 angle: 20.0  is  0.5034\n",
            "Accuracy after augmentation shear: 1.4 angle: 30.0  is  0.5372\n",
            "Accuracy after augmentation shear: 1.4 angle: 40.0  is  0.516\n",
            "Accuracy after augmentation shear: 1.4 angle: 50.0  is  0.5157\n",
            "Accuracy after augmentation shear: 1.4 angle: 60.0  is  0.5012\n",
            "Accuracy after augmentation shear: 1.6 angle: 0.0  is  0.4705\n",
            "Accuracy after augmentation shear: 1.6 angle: 10.0  is  0.5\n",
            "Accuracy after augmentation shear: 1.6 angle: 20.0  is  0.5147\n",
            "Accuracy after augmentation shear: 1.6 angle: 30.0  is  0.5183\n",
            "Accuracy after augmentation shear: 1.6 angle: 40.0  is  0.5015\n",
            "Accuracy after augmentation shear: 1.6 angle: 50.0  is  0.5117\n",
            "Accuracy after augmentation shear: 1.6 angle: 60.0  is  0.503\n"
          ]
        }
      ]
    },
    {
      "cell_type": "markdown",
      "metadata": {
        "id": "l5OWalEIO293"
      },
      "source": [
        "The smallest training dataset to get 50% above accuracy is  13 samples."
      ]
    }
  ]
}